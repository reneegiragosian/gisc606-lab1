{
 "cells": [
  {
   "cell_type": "code",
   "execution_count": 18,
   "metadata": {},
   "outputs": [
    {
     "ename": "ModuleNotFoundError",
     "evalue": "No module named 'numpy'",
     "output_type": "error",
     "traceback": [
      "\u001b[0;31m---------------------------------------------------------------------------\u001b[0m",
      "\u001b[0;31mModuleNotFoundError\u001b[0m                       Traceback (most recent call last)",
      "Cell \u001b[0;32mIn[18], line 4\u001b[0m\n\u001b[1;32m      1\u001b[0m \u001b[38;5;66;03m# Import necessary packages\u001b[39;00m\n\u001b[1;32m      3\u001b[0m \u001b[38;5;28;01mimport\u001b[39;00m \u001b[38;5;21;01mos\u001b[39;00m\n\u001b[0;32m----> 4\u001b[0m \u001b[38;5;28;01mimport\u001b[39;00m \u001b[38;5;21;01mnumpy\u001b[39;00m \u001b[38;5;28;01mas\u001b[39;00m \u001b[38;5;21;01mnp\u001b[39;00m\n",
      "\u001b[0;31mModuleNotFoundError\u001b[0m: No module named 'numpy'"
     ]
    }
   ],
   "source": [
    "# Import necessary packages\n",
    "\n",
    "import os\n",
    "import numpy as np\n"
   ]
  },
  {
   "cell_type": "code",
   "execution_count": null,
   "metadata": {},
   "outputs": [
    {
     "ename": "NameError",
     "evalue": "name 'et' is not defined",
     "output_type": "error",
     "traceback": [
      "\u001b[0;31m---------------------------------------------------------------------------\u001b[0m",
      "\u001b[0;31mNameError\u001b[0m                                 Traceback (most recent call last)",
      "Cell \u001b[0;32mIn[8], line 3\u001b[0m\n\u001b[1;32m      1\u001b[0m \u001b[38;5;66;03m# Download .txt with avg monthly precip (inches)\u001b[39;00m\n\u001b[1;32m      2\u001b[0m monthly_precip_url \u001b[38;5;241m=\u001b[39m \u001b[38;5;124m'\u001b[39m\u001b[38;5;124mhttps://ndownloader.figshare.com/files/12565616\u001b[39m\u001b[38;5;124m'\u001b[39m\n\u001b[0;32m----> 3\u001b[0m \u001b[43met\u001b[49m\u001b[38;5;241m.\u001b[39mdata\u001b[38;5;241m.\u001b[39mget_data(url\u001b[38;5;241m=\u001b[39mmonthly_precip_url)\n\u001b[1;32m      5\u001b[0m \u001b[38;5;66;03m# Download .csv of precip data for 2002 and 2013 (inches)\u001b[39;00m\n\u001b[1;32m      6\u001b[0m precip_2002_2013_url \u001b[38;5;241m=\u001b[39m \u001b[38;5;124m'\u001b[39m\u001b[38;5;124mhttps://ndownloader.figshare.com/files/12707792\u001b[39m\u001b[38;5;124m'\u001b[39m\n",
      "\u001b[0;31mNameError\u001b[0m: name 'et' is not defined"
     ]
    }
   ],
   "source": [
    "# Download .txt with avg monthly precip (inches)\n",
    "monthly_precip_url = 'https://ndownloader.figshare.com/files/12565616'\n",
    "et.data.get_data(url=monthly_precip_url)\n",
    "\n",
    "# Download .csv of precip data for 2002 and 2013 (inches)\n",
    "precip_2002_2013_url = 'https://ndownloader.figshare.com/files/12707792'\n"
   ]
  },
  {
   "cell_type": "code",
   "execution_count": null,
   "metadata": {},
   "outputs": [
    {
     "ename": "NameError",
     "evalue": "name 'et' is not defined",
     "output_type": "error",
     "traceback": [
      "\u001b[0;31m---------------------------------------------------------------------------\u001b[0m",
      "\u001b[0;31mNameError\u001b[0m                                 Traceback (most recent call last)",
      "Cell \u001b[0;32mIn[15], line 1\u001b[0m\n\u001b[0;32m----> 1\u001b[0m \u001b[43met\u001b[49m\u001b[38;5;241m.\u001b[39mdata\u001b[38;5;241m.\u001b[39mget_data(url\u001b[38;5;241m=\u001b[39mprecip_2002_2013_url)\n\u001b[1;32m      3\u001b[0m \u001b[38;5;66;03m# Set working directory to earth-analytics\u001b[39;00m\n\u001b[1;32m      4\u001b[0m os\u001b[38;5;241m.\u001b[39mchdir(os\u001b[38;5;241m.\u001b[39mpath\u001b[38;5;241m.\u001b[39mjoin(et\u001b[38;5;241m.\u001b[39mio\u001b[38;5;241m.\u001b[39mHOME, \u001b[38;5;124m'\u001b[39m\u001b[38;5;124mearth-analytics\u001b[39m\u001b[38;5;124m'\u001b[39m))\n",
      "\u001b[0;31mNameError\u001b[0m: name 'et' is not defined"
     ]
    }
   ],
   "source": [
    "et.data.get_data(url=precip_2002_2013_url)\n",
    "\n",
    "# Set working directory to earth-analytics\n",
    "os.chdir(os.path.join(et.io.HOME, 'earth-analytics'))\n"
   ]
  },
  {
   "cell_type": "code",
   "execution_count": null,
   "metadata": {},
   "outputs": [],
   "source": [
    "# Import average monthly precip to numpy array\n",
    "fname = os.path.join(\"data\", \"earthpy-downloads\",\n",
    "                     \"avg-monthly-precip.txt\")\n",
    "\n",
    "avg_monthly_precip = np.loadtxt(fname)\n",
    "\n",
    "print(avg_monthly_precip)\n"
   ]
  },
  {
   "cell_type": "code",
   "execution_count": null,
   "metadata": {},
   "outputs": [
    {
     "ename": "NameError",
     "evalue": "name 'np' is not defined",
     "output_type": "error",
     "traceback": [
      "\u001b[0;31m---------------------------------------------------------------------------\u001b[0m",
      "\u001b[0;31mNameError\u001b[0m                                 Traceback (most recent call last)",
      "Cell \u001b[0;32mIn[17], line 5\u001b[0m\n\u001b[1;32m      1\u001b[0m \u001b[38;5;66;03m# Import monthly precip for 2002 and 2013 to numpy array\u001b[39;00m\n\u001b[1;32m      2\u001b[0m fname \u001b[38;5;241m=\u001b[39m os\u001b[38;5;241m.\u001b[39mpath\u001b[38;5;241m.\u001b[39mjoin(\u001b[38;5;124m\"\u001b[39m\u001b[38;5;124mdata\u001b[39m\u001b[38;5;124m\"\u001b[39m, \u001b[38;5;124m\"\u001b[39m\u001b[38;5;124mearthpy-downloads\u001b[39m\u001b[38;5;124m\"\u001b[39m,\n\u001b[1;32m      3\u001b[0m                      \u001b[38;5;124m\"\u001b[39m\u001b[38;5;124mmonthly-precip-2002-2013.csv\u001b[39m\u001b[38;5;124m\"\u001b[39m)\n\u001b[0;32m----> 5\u001b[0m precip_2002_2013 \u001b[38;5;241m=\u001b[39m \u001b[43mnp\u001b[49m\u001b[38;5;241m.\u001b[39mloadtxt(fname, delimiter \u001b[38;5;241m=\u001b[39m \u001b[38;5;124m\"\u001b[39m\u001b[38;5;124m,\u001b[39m\u001b[38;5;124m\"\u001b[39m)\n\u001b[1;32m      7\u001b[0m \u001b[38;5;28mprint\u001b[39m(precip_2002_2013)\n\u001b[1;32m      9\u001b[0m \u001b[38;5;66;03m# Check dimensions of avg_monthly_precip\u001b[39;00m\n",
      "\u001b[0;31mNameError\u001b[0m: name 'np' is not defined"
     ]
    }
   ],
   "source": [
    "# Import monthly precip for 2002 and 2013 to numpy array\n",
    "fname = os.path.join(\"data\", \"earthpy-downloads\",\n",
    "                     \"monthly-precip-2002-2013.csv\")\n",
    "\n",
    "precip_2002_2013 = np.loadtxt(fname, delimiter = \",\")\n",
    "\n",
    "print(precip_2002_2013)\n",
    "\n",
    "# Check dimensions of avg_monthly_precip\n",
    "avg_monthly_precip.ndim\n",
    "\n",
    "\n",
    "# Check dimensions of precip_2002_2013\n",
    "precip_2002_2013.ndim\n",
    "\n",
    "# Check shape of precip_2002_2013\n",
    "precip_2002_2013.shape\n"
   ]
  },
  {
   "cell_type": "code",
   "execution_count": null,
   "metadata": {},
   "outputs": [],
   "source": [
    "# Check shape of avg_monthly_precip\n",
    "avg_monthly_precip.shape\n",
    "\n",
    "# Check the original values\n",
    "print(avg_monthly_precip)\n",
    "\n",
    "# Use assignment operator to convert values from in to mm\n",
    "avg_monthly_precip *= 25.4\n",
    "\n",
    "# Print new values\n",
    "print(avg_monthly_precip)\n",
    "\n",
    "# Check the original values\n",
    "print(precip_2002_2013)\n",
    "\n",
    "\n",
    "# Use assignment operator to convert values from in to mm\n",
    "precip_2002_2013 *= 25.4\n",
    "\n",
    "# Print new values\n",
    "print(precip_2002_2013)\n",
    "\n",
    "# Create variable with mean value\n",
    "mean_avg_precip = np.mean(avg_monthly_precip)\n",
    "\n",
    "print(\"mean average monthly precipitation:\", mean_avg_precip)\n",
    "\n",
    "# Create variable with median value\n",
    "median_avg_precip = np.median(avg_monthly_precip)\n",
    "\n",
    "print(\"median average monthly precipitation:\", median_avg_precip)\n",
    "\n",
    "# Calculate and print minimum and maximum values\n",
    "print(\"minimum average monthly precipitation:\", np.min(avg_monthly_precip))\n",
    "print(\"maximum average monthly precipitation:\", np.max(avg_monthly_precip))\n",
    "\n",
    "\n",
    "# Visually identify max value across the rows of precip_2002_2013\n",
    "print(precip_2002_2013)\n",
    "\n",
    "\n",
    "# Maximum value for each month across years 2002 and 2013\n",
    "print(np.max(precip_2002_2013, axis=0))\n",
    "\n",
    "\n",
    "# Create new array of the maximum value for each month\n",
    "precip_2002_2013_monthly_max = np.max(precip_2002_2013, axis=0)\n",
    "\n",
    "type(precip_2002_2013_monthly_max)\n",
    "\n",
    "\n",
    "# Visually identify max value across the rows of precip_2002_2013\n",
    "print(precip_2002_2013)\n",
    "\n",
    "\n",
    "# Maximum value for each year 2002 and 2013\n",
    "print(np.max(precip_2002_2013, axis=1))\n"
   ]
  }
 ],
 "metadata": {
  "kernelspec": {
   "display_name": ".venv",
   "language": "python",
   "name": "python3"
  },
  "language_info": {
   "codemirror_mode": {
    "name": "ipython",
    "version": 3
   },
   "file_extension": ".py",
   "mimetype": "text/x-python",
   "name": "python",
   "nbconvert_exporter": "python",
   "pygments_lexer": "ipython3",
   "version": "3.10.13"
  }
 },
 "nbformat": 4,
 "nbformat_minor": 2
}
