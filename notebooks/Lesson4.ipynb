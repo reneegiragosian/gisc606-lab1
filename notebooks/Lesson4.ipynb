{
 "cells": [
  {
   "cell_type": "code",
   "execution_count": 14,
   "metadata": {},
   "outputs": [
    {
     "ename": "SyntaxError",
     "evalue": "invalid syntax (1815823116.py, line 4)",
     "output_type": "error",
     "traceback": [
      "\u001b[0;36m  Cell \u001b[0;32mIn[14], line 4\u001b[0;36m\u001b[0m\n\u001b[0;31m    install earthpy as ep\u001b[0m\n\u001b[0m            ^\u001b[0m\n\u001b[0;31mSyntaxError\u001b[0m\u001b[0;31m:\u001b[0m invalid syntax\n"
     ]
    }
   ],
   "source": [
    "# Import necessary packages\n",
    "import os\n",
    "\n",
    "install earthpy as ep\n",
    "\n"
   ]
  },
  {
   "cell_type": "code",
   "execution_count": null,
   "metadata": {},
   "outputs": [
    {
     "name": "stdout",
     "output_type": "stream",
     "text": [
      "Collecting earthpy\n",
      "  Downloading earthpy-0.9.4-py3-none-any.whl.metadata (9.2 kB)\n",
      "Collecting geopandas (from earthpy)\n",
      "  Downloading geopandas-0.14.3-py3-none-any.whl.metadata (1.5 kB)\n",
      "Requirement already satisfied: matplotlib>=2.0.0 in /usr/local/python/3.10.13/lib/python3.10/site-packages (from earthpy) (3.7.0)\n",
      "Requirement already satisfied: numpy>=1.14.0 in /usr/local/python/3.10.13/lib/python3.10/site-packages (from earthpy) (1.24.2)\n",
      "Collecting rasterio (from earthpy)\n",
      "  Downloading rasterio-1.3.10-cp310-cp310-manylinux2014_x86_64.whl.metadata (14 kB)\n",
      "Collecting scikit-image (from earthpy)\n",
      "  Downloading scikit_image-0.23.1-cp310-cp310-manylinux_2_17_x86_64.manylinux2014_x86_64.whl.metadata (14 kB)\n",
      "Requirement already satisfied: requests in /home/codespace/.local/lib/python3.10/site-packages (from earthpy) (2.31.0)\n",
      "Requirement already satisfied: contourpy>=1.0.1 in /home/codespace/.local/lib/python3.10/site-packages (from matplotlib>=2.0.0->earthpy) (1.2.1)\n",
      "Requirement already satisfied: cycler>=0.10 in /home/codespace/.local/lib/python3.10/site-packages (from matplotlib>=2.0.0->earthpy) (0.12.1)\n",
      "Requirement already satisfied: fonttools>=4.22.0 in /home/codespace/.local/lib/python3.10/site-packages (from matplotlib>=2.0.0->earthpy) (4.50.0)\n",
      "Requirement already satisfied: kiwisolver>=1.0.1 in /home/codespace/.local/lib/python3.10/site-packages (from matplotlib>=2.0.0->earthpy) (1.4.5)\n",
      "Requirement already satisfied: packaging>=20.0 in /home/codespace/.local/lib/python3.10/site-packages (from matplotlib>=2.0.0->earthpy) (24.0)\n",
      "Requirement already satisfied: pillow>=6.2.0 in /home/codespace/.local/lib/python3.10/site-packages (from matplotlib>=2.0.0->earthpy) (10.3.0)\n",
      "Requirement already satisfied: pyparsing>=2.3.1 in /home/codespace/.local/lib/python3.10/site-packages (from matplotlib>=2.0.0->earthpy) (3.1.2)\n",
      "Requirement already satisfied: python-dateutil>=2.7 in /home/codespace/.local/lib/python3.10/site-packages (from matplotlib>=2.0.0->earthpy) (2.9.0.post0)\n",
      "Collecting fiona>=1.8.21 (from geopandas->earthpy)\n",
      "  Downloading fiona-1.9.6-cp310-cp310-manylinux2014_x86_64.whl.metadata (50 kB)\n",
      "\u001b[2K     \u001b[90m━━━━━━━━━━━━━━━━━━━━━━━━━━━━━━━━━━━━━━━━\u001b[0m \u001b[32m50.2/50.2 kB\u001b[0m \u001b[31m1.4 MB/s\u001b[0m eta \u001b[36m0:00:00\u001b[0m\n",
      "\u001b[?25hRequirement already satisfied: pandas>=1.4.0 in /usr/local/python/3.10.13/lib/python3.10/site-packages (from geopandas->earthpy) (1.5.3)\n",
      "Collecting pyproj>=3.3.0 (from geopandas->earthpy)\n",
      "  Downloading pyproj-3.6.1-cp310-cp310-manylinux_2_17_x86_64.manylinux2014_x86_64.whl.metadata (31 kB)\n",
      "Collecting shapely>=1.8.0 (from geopandas->earthpy)\n",
      "  Downloading shapely-2.0.4-cp310-cp310-manylinux_2_17_x86_64.manylinux2014_x86_64.whl.metadata (7.0 kB)\n",
      "Collecting affine (from rasterio->earthpy)\n",
      "  Downloading affine-2.4.0-py3-none-any.whl.metadata (4.0 kB)\n",
      "Requirement already satisfied: attrs in /home/codespace/.local/lib/python3.10/site-packages (from rasterio->earthpy) (23.2.0)\n",
      "Requirement already satisfied: certifi in /home/codespace/.local/lib/python3.10/site-packages (from rasterio->earthpy) (2024.2.2)\n",
      "Collecting click>=4.0 (from rasterio->earthpy)\n",
      "  Downloading click-8.1.7-py3-none-any.whl.metadata (3.0 kB)\n",
      "Collecting cligj>=0.5 (from rasterio->earthpy)\n",
      "  Downloading cligj-0.7.2-py3-none-any.whl.metadata (5.0 kB)\n",
      "Collecting snuggs>=1.4.1 (from rasterio->earthpy)\n",
      "  Downloading snuggs-1.4.7-py3-none-any.whl.metadata (3.4 kB)\n",
      "Collecting click-plugins (from rasterio->earthpy)\n",
      "  Downloading click_plugins-1.1.1-py2.py3-none-any.whl.metadata (6.4 kB)\n",
      "Requirement already satisfied: setuptools in /usr/local/python/3.10.13/lib/python3.10/site-packages (from rasterio->earthpy) (68.2.2)\n",
      "Requirement already satisfied: charset-normalizer<4,>=2 in /home/codespace/.local/lib/python3.10/site-packages (from requests->earthpy) (3.3.2)\n",
      "Requirement already satisfied: idna<4,>=2.5 in /home/codespace/.local/lib/python3.10/site-packages (from requests->earthpy) (3.6)\n",
      "Requirement already satisfied: urllib3<3,>=1.21.1 in /usr/local/python/3.10.13/lib/python3.10/site-packages (from requests->earthpy) (2.0.7)\n",
      "Requirement already satisfied: scipy>=1.9 in /home/codespace/.local/lib/python3.10/site-packages (from scikit-image->earthpy) (1.13.0)\n",
      "Requirement already satisfied: networkx>=2.8 in /home/codespace/.local/lib/python3.10/site-packages (from scikit-image->earthpy) (3.2.1)\n",
      "Collecting imageio>=2.33 (from scikit-image->earthpy)\n",
      "  Downloading imageio-2.34.0-py3-none-any.whl.metadata (4.9 kB)\n",
      "Collecting tifffile>=2022.8.12 (from scikit-image->earthpy)\n",
      "  Downloading tifffile-2024.4.18-py3-none-any.whl.metadata (31 kB)\n",
      "Collecting lazy-loader>=0.4 (from scikit-image->earthpy)\n",
      "  Downloading lazy_loader-0.4-py3-none-any.whl.metadata (7.6 kB)\n",
      "Requirement already satisfied: six in /home/codespace/.local/lib/python3.10/site-packages (from fiona>=1.8.21->geopandas->earthpy) (1.16.0)\n",
      "Requirement already satisfied: pytz>=2020.1 in /home/codespace/.local/lib/python3.10/site-packages (from pandas>=1.4.0->geopandas->earthpy) (2024.1)\n",
      "Downloading earthpy-0.9.4-py3-none-any.whl (1.4 MB)\n",
      "\u001b[2K   \u001b[90m━━━━━━━━━━━━━━━━━━━━━━━━━━━━━━━━━━━━━━━━\u001b[0m \u001b[32m1.4/1.4 MB\u001b[0m \u001b[31m20.6 MB/s\u001b[0m eta \u001b[36m0:00:00\u001b[0m00:01\u001b[0m\n",
      "\u001b[?25hDownloading geopandas-0.14.3-py3-none-any.whl (1.1 MB)\n",
      "\u001b[2K   \u001b[90m━━━━━━━━━━━━━━━━━━━━━━━━━━━━━━━━━━━━━━━━\u001b[0m \u001b[32m1.1/1.1 MB\u001b[0m \u001b[31m20.7 MB/s\u001b[0m eta \u001b[36m0:00:00\u001b[0m:00:01\u001b[0m\n",
      "\u001b[?25hDownloading rasterio-1.3.10-cp310-cp310-manylinux2014_x86_64.whl (21.5 MB)\n",
      "\u001b[2K   \u001b[90m━━━━━━━━━━━━━━━━━━━━━━━━━━━━━━━━━━━━━━━━\u001b[0m \u001b[32m21.5/21.5 MB\u001b[0m \u001b[31m52.0 MB/s\u001b[0m eta \u001b[36m0:00:00\u001b[0m:00:01\u001b[0m00:01\u001b[0m\n",
      "\u001b[?25hDownloading scikit_image-0.23.1-cp310-cp310-manylinux_2_17_x86_64.manylinux2014_x86_64.whl (14.7 MB)\n",
      "\u001b[2K   \u001b[90m━━━━━━━━━━━━━━━━━━━━━━━━━━━━━━━━━━━━━━━━\u001b[0m \u001b[32m14.7/14.7 MB\u001b[0m \u001b[31m57.3 MB/s\u001b[0m eta \u001b[36m0:00:00\u001b[0m:00:01\u001b[0m0:01\u001b[0m\n",
      "\u001b[?25hDownloading click-8.1.7-py3-none-any.whl (97 kB)\n",
      "\u001b[2K   \u001b[90m━━━━━━━━━━━━━━━━━━━━━━━━━━━━━━━━━━━━━━━━\u001b[0m \u001b[32m97.9/97.9 kB\u001b[0m \u001b[31m3.1 MB/s\u001b[0m eta \u001b[36m0:00:00\u001b[0m\n",
      "\u001b[?25hDownloading cligj-0.7.2-py3-none-any.whl (7.1 kB)\n",
      "Downloading fiona-1.9.6-cp310-cp310-manylinux2014_x86_64.whl (15.7 MB)\n",
      "\u001b[2K   \u001b[90m━━━━━━━━━━━━━━━━━━━━━━━━━━━━━━━━━━━━━━━━\u001b[0m \u001b[32m15.7/15.7 MB\u001b[0m \u001b[31m59.6 MB/s\u001b[0m eta \u001b[36m0:00:00\u001b[0m:00:01\u001b[0m00:01\u001b[0m\n",
      "\u001b[?25hDownloading click_plugins-1.1.1-py2.py3-none-any.whl (7.5 kB)\n",
      "Downloading imageio-2.34.0-py3-none-any.whl (313 kB)\n",
      "\u001b[2K   \u001b[90m━━━━━━━━━━━━━━━━━━━━━━━━━━━━━━━━━━━━━━━━\u001b[0m \u001b[32m313.4/313.4 kB\u001b[0m \u001b[31m8.7 MB/s\u001b[0m eta \u001b[36m0:00:00\u001b[0m:00:01\u001b[0m\n",
      "\u001b[?25hDownloading lazy_loader-0.4-py3-none-any.whl (12 kB)\n",
      "Downloading pyproj-3.6.1-cp310-cp310-manylinux_2_17_x86_64.manylinux2014_x86_64.whl (8.3 MB)\n",
      "\u001b[2K   \u001b[90m━━━━━━━━━━━━━━━━━━━━━━━━━━━━━━━━━━━━━━━━\u001b[0m \u001b[32m8.3/8.3 MB\u001b[0m \u001b[31m63.7 MB/s\u001b[0m eta \u001b[36m0:00:00\u001b[0m:00:01\u001b[0m00:01\u001b[0m\n",
      "\u001b[?25hDownloading shapely-2.0.4-cp310-cp310-manylinux_2_17_x86_64.manylinux2014_x86_64.whl (2.5 MB)\n",
      "\u001b[2K   \u001b[90m━━━━━━━━━━━━━━━━━━━━━━━━━━━━━━━━━━━━━━━━\u001b[0m \u001b[32m2.5/2.5 MB\u001b[0m \u001b[31m34.5 MB/s\u001b[0m eta \u001b[36m0:00:00\u001b[0m:00:01\u001b[0m\n",
      "\u001b[?25hDownloading snuggs-1.4.7-py3-none-any.whl (5.4 kB)\n",
      "Downloading tifffile-2024.4.18-py3-none-any.whl (224 kB)\n",
      "\u001b[2K   \u001b[90m━━━━━━━━━━━━━━━━━━━━━━━━━━━━━━━━━━━━━━━━\u001b[0m \u001b[32m225.0/225.0 kB\u001b[0m \u001b[31m6.7 MB/s\u001b[0m eta \u001b[36m0:00:00\u001b[0m\n",
      "\u001b[?25hDownloading affine-2.4.0-py3-none-any.whl (15 kB)\n",
      "Installing collected packages: tifffile, snuggs, shapely, pyproj, lazy-loader, imageio, click, affine, scikit-image, cligj, click-plugins, rasterio, fiona, geopandas, earthpy\n",
      "Successfully installed affine-2.4.0 click-8.1.7 click-plugins-1.1.1 cligj-0.7.2 earthpy-0.9.4 fiona-1.9.6 geopandas-0.14.3 imageio-2.34.0 lazy-loader-0.4 pyproj-3.6.1 rasterio-1.3.10 scikit-image-0.23.1 shapely-2.0.4 snuggs-1.4.7 tifffile-2024.4.18\n",
      "Note: you may need to restart the kernel to use updated packages.\n"
     ]
    }
   ],
   "source": [
    "pip install earthp"
   ]
  },
  {
   "cell_type": "code",
   "execution_count": 4,
   "metadata": {},
   "outputs": [],
   "source": [
    "avg_monthly_precip = [0.7, 0.75, 1.85, 2.93, 3.05, 2.02, 1.93, 1.62, 1.84, 1.31, 1.39, 0.84]"
   ]
  },
  {
   "cell_type": "code",
   "execution_count": null,
   "metadata": {},
   "outputs": [],
   "source": [
    "# Import necessary packages\n",
    "import os\n",
    "\n",
    "import numpy as np\n",
    "import earthpy as et\n",
    "\n",
    "# Download .txt with avg monthly precip (inches)\n",
    "monthly_precip_url = 'https://ndownloader.figshare.com/files/12565616'\n",
    "et.data.get_data(url=monthly_precip_url)\n",
    "\n",
    "# Download .csv of precip data for 2002 and 2013 (inches)\n",
    "precip_2002_2013_url = 'https://ndownloader.figshare.com/files/12707792'\n",
    "et.data.get_data(url=precip_2002_2013_url)\n",
    "\n",
    "\n",
    "# Set working directory to earth-analytics\n",
    "os.chdir(os.path.join(et.io.HOME, 'earth-analytics'))\n",
    "\n",
    "\n",
    "# Import average monthly precip\n",
    "fname = os.path.join(\"data\", \"earthpy-downloads\",\n",
    "                     \"avg-monthly-precip.txt\")\n",
    "\n",
    "avg_monthly_precip = np.loadtxt(fname)\n",
    "\n",
    "print(avg_monthly_precip)\n",
    "\n",
    "\n",
    "# Import monthly precip for 2002 and 2013\n",
    "fname = os.path.join(\"data\", \"earthpy-downloads\",\n",
    "                     \"monthly-precip-2002-2013.csv\")\n",
    "\n",
    "precip_2002_2013 = np.loadtxt(fname, delimiter=\",\")\n",
    "\n",
    "print(precip_2002_2013)\n"
   ]
  },
  {
   "cell_type": "code",
   "execution_count": 5,
   "metadata": {},
   "outputs": [
    {
     "ename": "AttributeError",
     "evalue": "'list' object has no attribute 'shape'",
     "output_type": "error",
     "traceback": [
      "\u001b[0;31m---------------------------------------------------------------------------\u001b[0m",
      "\u001b[0;31mAttributeError\u001b[0m                            Traceback (most recent call last)",
      "Cell \u001b[0;32mIn[5], line 2\u001b[0m\n\u001b[1;32m      1\u001b[0m \u001b[38;5;66;03m# Check shape\u001b[39;00m\n\u001b[0;32m----> 2\u001b[0m \u001b[43mavg_monthly_precip\u001b[49m\u001b[38;5;241;43m.\u001b[39;49m\u001b[43mshape\u001b[49m\n\u001b[1;32m      4\u001b[0m \u001b[38;5;66;03m# Select the last element of 12 elements\u001b[39;00m\n\u001b[1;32m      5\u001b[0m avg_monthly_precip[\u001b[38;5;241m11\u001b[39m]\n",
      "\u001b[0;31mAttributeError\u001b[0m: 'list' object has no attribute 'shape'"
     ]
    }
   ],
   "source": [
    "# Check shape\n",
    "avg_monthly_precip.shape\n",
    "\n",
    "# Select the last element of 12 elements\n",
    "avg_monthly_precip[11]\n"
   ]
  },
  {
   "cell_type": "code",
   "execution_count": 6,
   "metadata": {},
   "outputs": [],
   "source": [
    "# Import monthly precip for 2002 and 2013\n"
   ]
  },
  {
   "cell_type": "code",
   "execution_count": 8,
   "metadata": {},
   "outputs": [
    {
     "ename": "NameError",
     "evalue": "name 'os' is not defined",
     "output_type": "error",
     "traceback": [
      "\u001b[0;31m---------------------------------------------------------------------------\u001b[0m",
      "\u001b[0;31mNameError\u001b[0m                                 Traceback (most recent call last)",
      "Cell \u001b[0;32mIn[8], line 1\u001b[0m\n\u001b[0;32m----> 1\u001b[0m fname \u001b[38;5;241m=\u001b[39m \u001b[43mos\u001b[49m\u001b[38;5;241m.\u001b[39mpath\u001b[38;5;241m.\u001b[39mjoin(\u001b[38;5;124m\"\u001b[39m\u001b[38;5;124mdata\u001b[39m\u001b[38;5;124m\"\u001b[39m, \u001b[38;5;124m\"\u001b[39m\u001b[38;5;124mearthpy-downloads\u001b[39m\u001b[38;5;124m\"\u001b[39m,\n\u001b[1;32m      2\u001b[0m                      \u001b[38;5;124m\"\u001b[39m\u001b[38;5;124mmonthly-precip-2002-2013.csv\u001b[39m\u001b[38;5;124m\"\u001b[39m)\n\u001b[1;32m      4\u001b[0m precip_2002_2013 \u001b[38;5;241m=\u001b[39m np\u001b[38;5;241m.\u001b[39mloadtxt(fname, delimiter\u001b[38;5;241m=\u001b[39m\u001b[38;5;124m\"\u001b[39m\u001b[38;5;124m,\u001b[39m\u001b[38;5;124m\"\u001b[39m)\n\u001b[1;32m      6\u001b[0m \u001b[38;5;28mprint\u001b[39m(precip_2002_2013)\n",
      "\u001b[0;31mNameError\u001b[0m: name 'os' is not defined"
     ]
    }
   ],
   "source": [
    "fname = os.path.join(\"data\", \"earthpy-downloads\",\n",
    "                     \"monthly-precip-2002-2013.csv\")\n",
    "\n",
    "precip_2002_2013 = np.loadtxt(fname, delimiter=\",\")\n",
    "\n",
    "print(precip_2002_2013)\n",
    "\n",
    "\n",
    "# Check shape\n",
    "avg_monthly_precip.shape\n",
    "\n",
    "\n",
    "# Select the last element of 12 elements\n",
    "avg_monthly_precip[11]\n",
    "\n",
    "\n",
    "# Select the last element of the array\n",
    "avg_monthly_precip[-1]\n",
    "\n",
    "\n",
    "# Slice range from 3rd to 5th elements\n",
    "print(avg_monthly_precip[2:5])\n",
    "\n",
    "# Check shape\n",
    "precip_2002_2013.shape\n"
   ]
  },
  {
   "cell_type": "code",
   "execution_count": 9,
   "metadata": {},
   "outputs": [
    {
     "ename": "AttributeError",
     "evalue": "'list' object has no attribute 'shape'",
     "output_type": "error",
     "traceback": [
      "\u001b[0;31m---------------------------------------------------------------------------\u001b[0m",
      "\u001b[0;31mAttributeError\u001b[0m                            Traceback (most recent call last)",
      "Cell \u001b[0;32mIn[9], line 2\u001b[0m\n\u001b[1;32m      1\u001b[0m \u001b[38;5;66;03m# Check shape\u001b[39;00m\n\u001b[0;32m----> 2\u001b[0m \u001b[43mavg_monthly_precip\u001b[49m\u001b[38;5;241;43m.\u001b[39;49m\u001b[43mshape\u001b[49m\n\u001b[1;32m      4\u001b[0m \u001b[38;5;66;03m# Select the last element of 12 elements\u001b[39;00m\n\u001b[1;32m      5\u001b[0m avg_monthly_precip[\u001b[38;5;241m11\u001b[39m]\n",
      "\u001b[0;31mAttributeError\u001b[0m: 'list' object has no attribute 'shape'"
     ]
    }
   ],
   "source": [
    "# Check shape\n",
    "avg_monthly_precip.shape\n",
    "\n",
    "# Select the last element of 12 elements\n",
    "avg_monthly_precip[11]\n",
    "\n",
    "# Select the last element of the array\n",
    "avg_monthly_precip[-1]\n",
    "\n",
    "# Slice range from 3rd to 5th elements\n",
    "print(avg_monthly_precip[2:5])\n",
    "\n",
    "# Check shape\n",
    "precip_2002_2013.shape\n",
    "\n",
    "\n",
    "# Select element in 2nd row, 3rd column\n",
    "precip_2002_2013[1, 2]\n",
    "\n",
    "# Select element in 2nd row, 12th column\n",
    "precip_2002_2013[1, 11]\n",
    "\n",
    "# Select element in last row, last column\n",
    "precip_2002_2013[-1, -1]\n",
    "\n",
    "# Slice first row, first two columns\n",
    "print(precip_2002_2013[0:1, 0:2])\n",
    "\n",
    "# Slice first two rows, first column\n",
    "print(precip_2002_2013[0:2, 0:1])\n",
    "\n",
    "# Slice 2nd row, 2nd and 3rd columns\n",
    "print(precip_2002_2013[1:2, 1:3])\n",
    "\n",
    "# Slice first two rows, first two columns\n",
    "print(precip_2002_2013[:2, :2])\n",
    "\n",
    "precip_2002_2013[:2, :2].shape\n",
    "\n",
    "# Select 1st column\n",
    "print(precip_2002_2013[:, 0])\n",
    "\n",
    "# Select 1st row\n",
    "print(precip_2002_2013[0, :])\n",
    "\n",
    "\n",
    "# Select 1st row of data for 2002\n",
    "precip_2002 = precip_2002_2013[0, :]\n",
    "\n",
    "print(precip_2002.shape)\n",
    "print(precip_2002)\n",
    "\n",
    "\n",
    "# Select 2nd row of data for 2013\n",
    "precip_2013 = precip_2002_2013[1]\n",
    "\n",
    "print(precip_2013.shape)\n",
    "print(precip_2013)\n"
   ]
  }
 ],
 "metadata": {
  "kernelspec": {
   "display_name": "Python 3",
   "language": "python",
   "name": "python3"
  },
  "language_info": {
   "codemirror_mode": {
    "name": "ipython",
    "version": 3
   },
   "file_extension": ".py",
   "mimetype": "text/x-python",
   "name": "python",
   "nbconvert_exporter": "python",
   "pygments_lexer": "ipython3",
   "version": "3.10.13"
  }
 },
 "nbformat": 4,
 "nbformat_minor": 2
}
